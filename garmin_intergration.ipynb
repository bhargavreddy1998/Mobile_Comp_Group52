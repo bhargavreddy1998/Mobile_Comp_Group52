{
  "cells": [
    {
      "cell_type": "markdown",
      "metadata": {
        "id": "5OiEpl0a-3BK"
      },
      "source": [
        "# P4_ Data Intergration_using GARMIN WATCH"
      ]
    },
    {
      "cell_type": "code",
      "execution_count": 1,
      "metadata": {
        "colab": {
          "base_uri": "https://localhost:8080/"
        },
        "id": "qkoe6qfY-3BM",
        "outputId": "9142b2f3-a169-4624-eb9b-5a0a64a12095"
      },
      "outputs": [
        {
          "output_type": "stream",
          "name": "stdout",
          "text": [
            "Collecting garminconnect\n",
            "  Downloading garminconnect-0.2.11-py3-none-any.whl (11 kB)\n",
            "Collecting garth>=0.4.23 (from garminconnect)\n",
            "  Downloading garth-0.4.41-py3-none-any.whl (23 kB)\n",
            "Collecting withings-sync>=4.1.0 (from garminconnect)\n",
            "  Downloading withings-sync-4.1.0.tar.gz (22 kB)\n",
            "  Preparing metadata (setup.py) ... \u001b[?25l\u001b[?25hdone\n",
            "Requirement already satisfied: requests<3.0.0,>=2.0.0 in /usr/local/lib/python3.10/dist-packages (from garth>=0.4.23->garminconnect) (2.31.0)\n",
            "Requirement already satisfied: pydantic<3.0.0,>=1.10.12 in /usr/local/lib/python3.10/dist-packages (from garth>=0.4.23->garminconnect) (1.10.13)\n",
            "Requirement already satisfied: requests-oauthlib<2.0.0,>=1.3.1 in /usr/local/lib/python3.10/dist-packages (from garth>=0.4.23->garminconnect) (1.3.1)\n",
            "Requirement already satisfied: lxml in /usr/local/lib/python3.10/dist-packages (from withings-sync>=4.1.0->garminconnect) (4.9.3)\n",
            "Collecting python-dotenv (from withings-sync>=4.1.0->garminconnect)\n",
            "  Downloading python_dotenv-1.0.0-py3-none-any.whl (19 kB)\n",
            "Requirement already satisfied: typing-extensions>=4.2.0 in /usr/local/lib/python3.10/dist-packages (from pydantic<3.0.0,>=1.10.12->garth>=0.4.23->garminconnect) (4.5.0)\n",
            "Requirement already satisfied: charset-normalizer<4,>=2 in /usr/local/lib/python3.10/dist-packages (from requests<3.0.0,>=2.0.0->garth>=0.4.23->garminconnect) (3.3.2)\n",
            "Requirement already satisfied: idna<4,>=2.5 in /usr/local/lib/python3.10/dist-packages (from requests<3.0.0,>=2.0.0->garth>=0.4.23->garminconnect) (3.4)\n",
            "Requirement already satisfied: urllib3<3,>=1.21.1 in /usr/local/lib/python3.10/dist-packages (from requests<3.0.0,>=2.0.0->garth>=0.4.23->garminconnect) (2.0.7)\n",
            "Requirement already satisfied: certifi>=2017.4.17 in /usr/local/lib/python3.10/dist-packages (from requests<3.0.0,>=2.0.0->garth>=0.4.23->garminconnect) (2023.7.22)\n",
            "Requirement already satisfied: oauthlib>=3.0.0 in /usr/local/lib/python3.10/dist-packages (from requests-oauthlib<2.0.0,>=1.3.1->garth>=0.4.23->garminconnect) (3.2.2)\n",
            "Building wheels for collected packages: withings-sync\n",
            "  Building wheel for withings-sync (setup.py) ... \u001b[?25l\u001b[?25hdone\n",
            "  Created wheel for withings-sync: filename=withings_sync-4.1.0-py3-none-any.whl size=20838 sha256=657bf1268e27ebd920de6ce28809a93a98f1d5f0b0f59d000abb2396b02bdf2d\n",
            "  Stored in directory: /root/.cache/pip/wheels/39/c3/12/7f14c208f6056a2abefff512d9ff23aa4150fedbc8b4fe5f7e\n",
            "Successfully built withings-sync\n",
            "Installing collected packages: python-dotenv, garth, withings-sync, garminconnect\n",
            "Successfully installed garminconnect-0.2.11 garth-0.4.41 python-dotenv-1.0.0 withings-sync-4.1.0\n"
          ]
        }
      ],
      "source": [
        "!pip3 install garminconnect\n",
        "import garminconnect"
      ]
    },
    {
      "cell_type": "markdown",
      "metadata": {
        "id": "4GEHjyRg-3BN"
      },
      "source": [
        "## Login to user"
      ]
    },
    {
      "cell_type": "markdown",
      "source": [
        "Please use commented email and password to connect to my garmin portal"
      ],
      "metadata": {
        "id": "IUcpsXbJFP34"
      }
    },
    {
      "cell_type": "code",
      "execution_count": 22,
      "metadata": {
        "colab": {
          "base_uri": "https://localhost:8080/",
          "height": 70
        },
        "id": "45gV5nMg-3BN",
        "outputId": "ecbd3452-955c-490f-9f89-63965d0aa50b"
      },
      "outputs": [
        {
          "name": "stdout",
          "output_type": "stream",
          "text": [
            "Enter email address: yashmshah16@gmail.com\n",
            "Enter password: ··········\n"
          ]
        },
        {
          "output_type": "execute_result",
          "data": {
            "text/plain": [
              "'7688699d-bc5d-43e6-9046-7a65efcaf0dd'"
            ],
            "application/vnd.google.colaboratory.intrinsic+json": {
              "type": "string"
            }
          },
          "metadata": {},
          "execution_count": 22
        }
      ],
      "source": [
        "from getpass import getpass\n",
        "\n",
        "email = input(\"Enter email address: \")\n",
        "#email=\"yashmshah16@mail.com\"\n",
        "password = getpass(\"Enter password: \")\n",
        "#password=\"Bond@007\"\n",
        "user = garminconnect.Garmin(email, password)#creates an instance of the Garmin class from the garminconnect library\n",
        "user.login()#log in to Garmin Connect using the credentials provided\n",
        "\n",
        "user.display_name"
      ]
    },
    {
      "cell_type": "code",
      "execution_count": 23,
      "metadata": {
        "id": "NgJvKS65-3BO"
      },
      "outputs": [],
      "source": [
        "import os\n",
        "\n",
        "GARTH_HOME = os.getenv(\"GARTH_HOME\", \"~/.garth\")\n",
        "user.garth.dump(GARTH_HOME)#get environment variable's value"
      ]
    },
    {
      "cell_type": "code",
      "execution_count": 24,
      "metadata": {
        "colab": {
          "base_uri": "https://localhost:8080/",
          "height": 36
        },
        "id": "rZl22G1r-3BO",
        "outputId": "27b2531d-7f01-4145-f820-abfe4eabd8e1"
      },
      "outputs": [
        {
          "output_type": "execute_result",
          "data": {
            "text/plain": [
              "'2023-11-29'"
            ],
            "application/vnd.google.colaboratory.intrinsic+json": {
              "type": "string"
            }
          },
          "metadata": {},
          "execution_count": 24
        }
      ],
      "source": [
        "from datetime import date, timedelta\n",
        "\n",
        "TODAY = date.today() - timedelta(days=1)\n",
        "TODAY = TODAY.isoformat()#set today's date\n",
        "TODAY"
      ]
    },
    {
      "cell_type": "markdown",
      "source": [
        "Todays Total **Distance**"
      ],
      "metadata": {
        "id": "Ye6mfqAE1jow"
      }
    },
    {
      "cell_type": "code",
      "execution_count": 25,
      "metadata": {
        "colab": {
          "base_uri": "https://localhost:8080/"
        },
        "id": "EEs4R8NQ-3BP",
        "outputId": "8cf58df6-30db-4352-aed6-2695bf39ace3"
      },
      "outputs": [
        {
          "output_type": "stream",
          "name": "stdout",
          "text": [
            "7120\n"
          ]
        }
      ],
      "source": [
        "steps=user.get_daily_steps(TODAY, TODAY)#get today's steps\n",
        "Todays_Total_Distance = steps[0]['totalDistance']#calculate today's distance travelled in meters from steps\n",
        "\n",
        "print(Todays_Total_Distance)"
      ]
    },
    {
      "cell_type": "code",
      "execution_count": 26,
      "metadata": {
        "colab": {
          "base_uri": "https://localhost:8080/"
        },
        "id": "WyEc6vlM-3BP",
        "outputId": "5eba934a-98a9-4223-82e0-e28303181042"
      },
      "outputs": [
        {
          "output_type": "execute_result",
          "data": {
            "text/plain": [
              "dict_keys(['date', 'charged', 'drained', 'startTimestampGMT', 'endTimestampGMT', 'startTimestampLocal', 'endTimestampLocal', 'bodyBatteryValuesArray', 'bodyBatteryValueDescriptorDTOList'])"
            ]
          },
          "metadata": {},
          "execution_count": 26
        }
      ],
      "source": [
        "user.get_body_battery(TODAY)[0].keys()"
      ]
    },
    {
      "cell_type": "markdown",
      "source": [
        "Body Battery (EXTRA)"
      ],
      "metadata": {
        "id": "RYUP9k-6Mdy-"
      }
    },
    {
      "cell_type": "code",
      "source": [
        "response = user.get_body_battery(TODAY)\n",
        "body_battery_values_array = response[0]['bodyBatteryValuesArray']\n",
        "print(body_battery_values_array)\n"
      ],
      "metadata": {
        "colab": {
          "base_uri": "https://localhost:8080/"
        },
        "id": "Wn-mbaxSJ-xe",
        "outputId": "77335b86-feba-4db5-be26-10f94f79ad96"
      },
      "execution_count": 45,
      "outputs": [
        {
          "output_type": "stream",
          "name": "stdout",
          "text": [
            "[[1701241200000, 16], [1701245880000, 12], [1701278640000, 45], [1701287460000, 34], [1701287640000, 34], [1701310320000, 18]]\n"
          ]
        }
      ]
    },
    {
      "cell_type": "markdown",
      "source": [
        "-"
      ],
      "metadata": {
        "id": "FMCKaj2LNDO3"
      }
    },
    {
      "cell_type": "markdown",
      "source": [
        "Today's **MAX** Heart Rate"
      ],
      "metadata": {
        "id": "a4o7ERp7M5cZ"
      }
    },
    {
      "cell_type": "code",
      "source": [
        "c=user.get_heart_rates(TODAY).get('maxHeartRate', [])\n",
        "print(c)"
      ],
      "metadata": {
        "colab": {
          "base_uri": "https://localhost:8080/"
        },
        "id": "coLfPzllwp5R",
        "outputId": "59d9a129-052a-4972-d5c4-2daa9c6b703a"
      },
      "execution_count": 28,
      "outputs": [
        {
          "output_type": "stream",
          "name": "stdout",
          "text": [
            "115\n"
          ]
        }
      ]
    },
    {
      "cell_type": "markdown",
      "source": [
        "Extract Heart Rates for **TODAY**"
      ],
      "metadata": {
        "id": "-JHpGEDMxDsq"
      }
    },
    {
      "cell_type": "code",
      "source": [
        "c=user.get_heart_rates(TODAY)\n",
        "# Extract heart rate values\n",
        "heart_rate_values = c.get('heartRateValues', [])\n",
        "HRvalues = [sub_array[1] for sub_array in heart_rate_values]\n",
        "preprocessed_list = [value for value in HRvalues if value != None]\n",
        "# Print the HR values\n",
        "print(preprocessed_list)\n"
      ],
      "metadata": {
        "colab": {
          "base_uri": "https://localhost:8080/"
        },
        "id": "mxz_li5yCoiM",
        "outputId": "0eec7902-985e-4593-cb7d-7641587a1e62"
      },
      "execution_count": 29,
      "outputs": [
        {
          "output_type": "stream",
          "name": "stdout",
          "text": [
            "[76, 77, 79, 79, 84, 79, 80, 77, 83, 96, 107, 104, 95, 108, 109, 91, 89, 90, 95, 100, 81, 78, 85, 74, 77, 77, 78, 77, 79, 88, 84, 86, 87, 85, 86, 101, 98, 78, 75, 74, 73, 71, 72, 70, 69, 69, 70, 67, 67, 84, 98, 90, 90, 98, 100, 93, 97, 105, 89, 103, 100, 83, 87, 84, 73, 71, 69, 71, 68, 70, 73, 68, 75, 77, 81, 71, 70, 69, 75, 82, 88, 74, 80, 89, 89, 93, 90, 87, 90, 95, 89, 91, 98, 87, 88, 86, 90, 94, 101, 90, 90, 95, 98, 102, 101, 104, 91, 96, 83, 79, 87, 85, 94, 88, 85, 82, 82, 82, 89, 83, 87, 79, 77, 78, 81, 78, 77, 77, 79, 79, 78, 79, 77, 76, 78, 79, 95, 100, 111, 100, 99, 100, 90, 93, 77, 80, 82, 83, 80, 79, 78, 82, 105, 110, 115, 114, 104, 101, 88, 76, 80, 82, 77, 72, 74, 71, 73, 73, 73, 74, 75, 79, 74, 82, 74, 73, 79, 88, 94, 107, 111, 109, 112, 106, 91, 80, 79, 93, 105, 114, 112, 106, 91, 83, 78, 75, 76, 84, 84, 85, 88, 86, 85, 74, 70, 72, 70, 68, 69, 71, 72, 71, 75, 81, 86, 86, 83, 84, 85, 94, 80, 86, 73, 70, 71, 70, 74, 73, 71, 71, 72, 70, 71, 72, 71, 74, 73, 75, 76, 78, 72, 69, 89, 100, 104, 102, 106, 105, 91, 97, 107, 104, 87, 78, 77, 72, 72, 68, 75, 86, 96, 83, 70, 70, 70, 70, 82, 81, 71, 69, 68, 81, 76, 89, 85, 74, 73, 88, 97, 102, 111, 106, 100, 108, 102, 98, 93, 109, 114, 99, 81, 77, 83, 99, 92, 81, 87, 88, 100, 101, 100, 101, 101, 99, 96, 86]\n"
          ]
        }
      ]
    },
    {
      "cell_type": "markdown",
      "source": [
        "Extract **Avg** Heart Rate for **TODAY**"
      ],
      "metadata": {
        "id": "i2NSk1T3xPPo"
      }
    },
    {
      "cell_type": "code",
      "source": [
        "avg_HR_today = sum(preprocessed_list) / len(preprocessed_list)#calculate today's average heart rate\n",
        "print(avg_HR_today)"
      ],
      "metadata": {
        "colab": {
          "base_uri": "https://localhost:8080/"
        },
        "id": "3H2djxEwsvKe",
        "outputId": "21f012fa-e3f4-4874-f655-5ac3cd9094f2"
      },
      "execution_count": 30,
      "outputs": [
        {
          "output_type": "stream",
          "name": "stdout",
          "text": [
            "85.23202614379085\n"
          ]
        }
      ]
    },
    {
      "cell_type": "markdown",
      "source": [
        "Get **Respiratory** Data for TODAY"
      ],
      "metadata": {
        "id": "FaeD7jOcxW7y"
      }
    },
    {
      "cell_type": "code",
      "source": [
        "a=user.get_respiration_data(TODAY)\n",
        "# Extracting the respirationValuesArray\n",
        "respiration_values_array = a.get('respirationValuesArray', [])\n",
        "# Printing the extracted array\n",
        "# Preprocess respiration data\n",
        "minus_two_values = [sub_array[1] for sub_array in respiration_values_array]\n",
        "filtered_list = [value for value in minus_two_values if value >= 0]\n",
        "print(filtered_list)\n",
        "\n"
      ],
      "metadata": {
        "colab": {
          "base_uri": "https://localhost:8080/"
        },
        "id": "L6_MQm0LDPce",
        "outputId": "41bc234b-1996-435d-8b8b-9c2eaf7ab8fb"
      },
      "execution_count": 31,
      "outputs": [
        {
          "output_type": "stream",
          "name": "stdout",
          "text": [
            "[14.0, 13.0, 13.0, 14.0, 13.0, 14.0, 14.0, 14.0, 15.0, 14.0, 14.0, 14.0, 15.0, 18.0, 16.0, 14.0, 14.0, 13.0, 14.0, 13.0, 14.0, 14.0, 14.0, 14.0, 13.0, 14.0, 14.0, 13.0, 13.0, 13.0, 14.0, 14.0, 13.0, 14.0, 13.0, 13.0, 13.0, 13.0, 13.0, 12.0, 13.0, 14.0, 13.0, 13.0, 14.0, 13.0, 13.0, 13.0, 14.0, 13.0, 14.0, 14.0, 14.0, 15.0, 16.0, 14.0, 13.0, 13.0, 12.0, 13.0, 14.0, 13.0, 13.0, 14.0, 14.0, 13.0, 14.0, 13.0, 14.0, 13.0, 14.0, 14.0, 13.0, 14.0, 14.0, 13.0, 13.0, 15.0, 19.0, 19.0, 19.0, 17.0, 16.0, 14.0, 14.0, 13.0, 14.0, 13.0, 13.0, 14.0, 14.0, 14.0, 14.0, 13.0, 13.0, 13.0, 13.0, 13.0, 14.0, 13.0, 13.0, 13.0, 14.0, 15.0, 14.0, 14.0, 14.0, 14.0, 13.0, 14.0, 14.0, 17.0, 18.0, 19.0, 18.0, 17.0, 14.0, 13.0, 13.0, 12.0, 13.0, 14.0, 14.0, 14.0, 13.0, 13.0, 13.0, 13.0, 14.0, 14.0, 14.0, 13.0, 14.0, 14.0, 13.0, 14.0, 14.0, 13.0, 13.0, 13.0, 13.0, 13.0, 19.0, 19.0, 19.0, 18.0, 15.0, 18.0, 19.0, 18.0, 14.0, 14.0, 13.0, 13.0, 14.0, 14.0, 15.0, 15.0, 14.0, 14.0, 13.0, 14.0, 13.0, 14.0, 13.0, 13.0, 12.0, 13.0, 13.0, 14.0, 13.0, 13.0, 14.0, 15.0, 14.0, 14.0, 14.0, 13.0, 13.0, 13.0, 13.0, 13.0, 13.0, 13.0, 13.0, 14.0, 15.0, 13.0, 13.0, 13.0, 15.0, 14.0, 15.0, 15.0, 14.0, 13.0, 20.0, 20.0, 20.0, 20.0, 19.0, 18.0, 18.0, 16.0, 14.0, 14.0, 14.0, 13.0, 15.0, 14.0, 13.0, 13.0, 13.0, 13.0, 12.0, 13.0, 13.0, 15.0, 14.0, 14.0, 14.0, 14.0, 15.0, 19.0, 19.0, 19.0, 19.0, 14.0, 13.0, 14.0, 14.0, 14.0, 14.0]\n"
          ]
        }
      ]
    },
    {
      "cell_type": "markdown",
      "source": [
        "Get **VO2 MAX** for Today"
      ],
      "metadata": {
        "id": "ZrmeJXYKxbYQ"
      }
    },
    {
      "cell_type": "code",
      "source": [
        "    vo2max=user.get_max_metrics(TODAY)\n",
        "    vo2_max_value = vo2max[0]['generic']['vo2MaxValue']\n",
        "    vo2_max_precise_value = vo2max[0]['generic']['vo2MaxPreciseValue']\n",
        "    print(vo2_max_precise_value)  # Output"
      ],
      "metadata": {
        "id": "V_NfKHhOI9eE",
        "colab": {
          "base_uri": "https://localhost:8080/"
        },
        "outputId": "5bb079f3-a7e3-4e1e-9785-5e10c667f7c9"
      },
      "execution_count": 32,
      "outputs": [
        {
          "output_type": "stream",
          "name": "stdout",
          "text": [
            "39.5\n"
          ]
        }
      ]
    },
    {
      "cell_type": "markdown",
      "source": [
        "Todays Calories Burnt (KILO)"
      ],
      "metadata": {
        "id": "XwYv_MSU3YkA"
      }
    },
    {
      "cell_type": "code",
      "source": [
        "    stats = user.get_stats(TODAY)\n",
        "    Todays_total_Kilo_calories = stats.get(\"totalKilocalories\")\n",
        "    print(Todays_total_Kilo_calories)"
      ],
      "metadata": {
        "colab": {
          "base_uri": "https://localhost:8080/"
        },
        "id": "_dIQE6KA2QDv",
        "outputId": "6788295b-fa6a-44e7-d8ff-2413debf6eee"
      },
      "execution_count": 33,
      "outputs": [
        {
          "output_type": "stream",
          "name": "stdout",
          "text": [
            "1667.0\n"
          ]
        }
      ]
    },
    {
      "cell_type": "markdown",
      "source": [
        "Today's Active Hours"
      ],
      "metadata": {
        "id": "pzMCXl7NNVYY"
      }
    },
    {
      "cell_type": "code",
      "source": [
        "Todays_total_Kilo_calories = stats.get(\"durationInMilliseconds\")\n",
        "print((Todays_total_Kilo_calories/60000)/60)"
      ],
      "metadata": {
        "colab": {
          "base_uri": "https://localhost:8080/"
        },
        "id": "TS6DogeG3Obe",
        "outputId": "e0268d85-5ac6-4f21-a20b-50e3fc0a30bc"
      },
      "execution_count": 34,
      "outputs": [
        {
          "output_type": "stream",
          "name": "stdout",
          "text": [
            "19.283333333333335\n"
          ]
        }
      ]
    },
    {
      "cell_type": "markdown",
      "source": [
        "Activity Duration"
      ],
      "metadata": {
        "id": "W51kWm6MEtN_"
      }
    },
    {
      "cell_type": "code",
      "source": [
        "# Fetch a list of activities; adjust the indices as needed\n",
        "activities = user.get_activities(0,1) # Fetches the most recent activity\n",
        "\n",
        "#activities = user.get_activities(0,1) # Fetches the most recent activity\n",
        "for activity in activities:\n",
        "      print(f\"Activity ID: {activity['activityId']}\")\n",
        "      start_time = activity.get(\"startTimeLocal\")  # Field for start time\n",
        "      end_time = activity.get(\"endTimeLocal\")      # Field for end time (if available)\n",
        "      print(f\"Duration: {activity['duration']} seconds\")"
      ],
      "metadata": {
        "colab": {
          "base_uri": "https://localhost:8080/"
        },
        "id": "8S1yJwUl4M1s",
        "outputId": "71ba3c12-2411-4283-9115-5bf89fe13b32"
      },
      "execution_count": 35,
      "outputs": [
        {
          "output_type": "stream",
          "name": "stdout",
          "text": [
            "Activity ID: 12457570740\n",
            "Duration: 280.9110107421875 seconds\n"
          ]
        }
      ]
    }
  ],
  "metadata": {
    "kernelspec": {
      "display_name": ".venv",
      "language": "python",
      "name": "python3"
    },
    "language_info": {
      "codemirror_mode": {
        "name": "ipython",
        "version": 3
      },
      "file_extension": ".py",
      "mimetype": "text/x-python",
      "name": "python",
      "nbconvert_exporter": "python",
      "pygments_lexer": "ipython3",
      "version": "3.10.11"
    },
    "orig_nbformat": 4,
    "colab": {
      "provenance": []
    }
  },
  "nbformat": 4,
  "nbformat_minor": 0
}